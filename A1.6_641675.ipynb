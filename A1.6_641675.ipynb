{
 "cells": [
  {
   "cell_type": "markdown",
   "metadata": {},
   "source": [
    "# (A1.5 Solución de problemas)         \n",
    "                                                                                                       \n",
    "Fernando Ariel Lozano Castillo\n"
   ]
  },
  {
   "cell_type": "markdown",
   "metadata": {},
   "source": [
    "1. Primero importaremos los datos del archivo **Tiempo de entrega.csv**  en la variable `df`.\n",
    "e imprimemos el tipo de dato de cada variable del data frame con la función `dtypes`   para checar si existen variables categóricas, además de las 5 primeras filas para checar las variables existentes."
   ]
  },
  {
   "cell_type": "code",
   "execution_count": 71,
   "metadata": {},
   "outputs": [
    {
     "data": {
      "text/html": [
       "<div>\n",
       "<style scoped>\n",
       "    .dataframe tbody tr th:only-of-type {\n",
       "        vertical-align: middle;\n",
       "    }\n",
       "\n",
       "    .dataframe tbody tr th {\n",
       "        vertical-align: top;\n",
       "    }\n",
       "\n",
       "    .dataframe thead th {\n",
       "        text-align: right;\n",
       "    }\n",
       "</style>\n",
       "<table border=\"1\" class=\"dataframe\">\n",
       "  <thead>\n",
       "    <tr style=\"text-align: right;\">\n",
       "      <th></th>\n",
       "      <th>Tiempo</th>\n",
       "      <th>Calificacion</th>\n",
       "    </tr>\n",
       "  </thead>\n",
       "  <tbody>\n",
       "    <tr>\n",
       "      <th>0</th>\n",
       "      <td>85.076389</td>\n",
       "      <td>85.0</td>\n",
       "    </tr>\n",
       "    <tr>\n",
       "      <th>1</th>\n",
       "      <td>84.675556</td>\n",
       "      <td>85.0</td>\n",
       "    </tr>\n",
       "    <tr>\n",
       "      <th>2</th>\n",
       "      <td>79.553889</td>\n",
       "      <td>110.0</td>\n",
       "    </tr>\n",
       "    <tr>\n",
       "      <th>3</th>\n",
       "      <td>75.310556</td>\n",
       "      <td>110.0</td>\n",
       "    </tr>\n",
       "    <tr>\n",
       "      <th>4</th>\n",
       "      <td>64.958611</td>\n",
       "      <td>110.0</td>\n",
       "    </tr>\n",
       "  </tbody>\n",
       "</table>\n",
       "</div>"
      ],
      "text/plain": [
       "      Tiempo  Calificacion\n",
       "0  85.076389          85.0\n",
       "1  84.675556          85.0\n",
       "2  79.553889         110.0\n",
       "3  75.310556         110.0\n",
       "4  64.958611         110.0"
      ]
     },
     "metadata": {},
     "output_type": "display_data"
    },
    {
     "name": "stdout",
     "output_type": "stream",
     "text": [
      "Tiempo          float64\n",
      "Calificacion    float64\n",
      "dtype: object\n"
     ]
    }
   ],
   "source": [
    "# Importa la librería pandas\n",
    "import pandas as pd\n",
    "# Lee el archivo\n",
    "df = pd.read_csv(\"Tiempo de entrega.csv\")\n",
    "display(df.head(5))\n",
    "# Imprime el tipo de datos con que se cuenta\n",
    "print(df.dtypes)"
   ]
  },
  {
   "cell_type": "markdown",
   "metadata": {},
   "source": [
    "#### Gráfica intento 1 y casos de outliers\n",
    "Generaremos una gráfica de dispersión que muestre el comportamiento de los datos. Y haré una línea de \n",
    "texto en la que generó una predicción sobre qué tipo de algoritmo será el más adecuado \n",
    "para resolver la tarea."
   ]
  },
  {
   "cell_type": "code",
   "execution_count": 72,
   "metadata": {},
   "outputs": [
    {
     "data": {
      "image/png": "[encoded data removed]",
      "text/plain": [
       "<Figure size 640x480 with 1 Axes>"
      ]
     },
     "metadata": {},
     "output_type": "display_data"
    }
   ],
   "source": [
    "import matplotlib.pyplot as plt\n",
    "\n",
    "# Gráfica de dispersión\n",
    "plt.scatter(df.Tiempo, df.Calificacion)\n",
    "\n",
    "# Etiquetas y título\n",
    "plt.xlabel('Tiempo')\n",
    "plt.ylabel('Calificación')\n",
    "plt.title('Gráfica de Dispersión: Tiempo vs Calificación')\n",
    "\n",
    "# Mostrar la gráfica\n",
    "plt.show()\n"
   ]
  },
  {
   "cell_type": "markdown",
   "metadata": {},
   "source": [
    "Para lograr obtener esta gráfica se tuvieron que quitar las ultimas 3 observaciones directamente en el csv debido a que contaban con datos como `NaN, ?!`, por los cuales no se lograba obtener la gráfica. \n",
    "\n",
    "Ahora usare el método de Tukey, en el que se considera un *outlier* a cualquier obvservación fuera del rango de la ecuación mostrada en clase, con un valor de *k=3*. En la siguiente celda, encontraremos el cuartil uno y cuartil tres con la función `quantile` de pandas, definiremos el rango intercuartil como la diferencia de dichos valores, y especificaremos un límite inferior y superior e imprimiremos dichos valores. Primero para `calificacion` y luego para `Tiempo`"
   ]
  },
  {
   "cell_type": "code",
   "execution_count": 73,
   "metadata": {},
   "outputs": [
    {
     "name": "stdout",
     "output_type": "stream",
     "text": [
      "Datos de los outliers\n"
     ]
    },
    {
     "data": {
      "text/html": [
       "<div>\n",
       "<style scoped>\n",
       "    .dataframe tbody tr th:only-of-type {\n",
       "        vertical-align: middle;\n",
       "    }\n",
       "\n",
       "    .dataframe tbody tr th {\n",
       "        vertical-align: top;\n",
       "    }\n",
       "\n",
       "    .dataframe thead th {\n",
       "        text-align: right;\n",
       "    }\n",
       "</style>\n",
       "<table border=\"1\" class=\"dataframe\">\n",
       "  <thead>\n",
       "    <tr style=\"text-align: right;\">\n",
       "      <th></th>\n",
       "      <th>Tiempo</th>\n",
       "      <th>Calificacion</th>\n",
       "    </tr>\n",
       "  </thead>\n",
       "  <tbody>\n",
       "  </tbody>\n",
       "</table>\n",
       "</div>"
      ],
      "text/plain": [
       "Empty DataFrame\n",
       "Columns: [Tiempo, Calificacion]\n",
       "Index: []"
      ]
     },
     "metadata": {},
     "output_type": "display_data"
    },
    {
     "name": "stdout",
     "output_type": "stream",
     "text": [
      "Datos de los outliers\n"
     ]
    },
    {
     "data": {
      "text/html": [
       "<div>\n",
       "<style scoped>\n",
       "    .dataframe tbody tr th:only-of-type {\n",
       "        vertical-align: middle;\n",
       "    }\n",
       "\n",
       "    .dataframe tbody tr th {\n",
       "        vertical-align: top;\n",
       "    }\n",
       "\n",
       "    .dataframe thead th {\n",
       "        text-align: right;\n",
       "    }\n",
       "</style>\n",
       "<table border=\"1\" class=\"dataframe\">\n",
       "  <thead>\n",
       "    <tr style=\"text-align: right;\">\n",
       "      <th></th>\n",
       "      <th>Tiempo</th>\n",
       "      <th>Calificacion</th>\n",
       "    </tr>\n",
       "  </thead>\n",
       "  <tbody>\n",
       "    <tr>\n",
       "      <th>0</th>\n",
       "      <td>85.076389</td>\n",
       "      <td>85.00000</td>\n",
       "    </tr>\n",
       "    <tr>\n",
       "      <th>1</th>\n",
       "      <td>84.675556</td>\n",
       "      <td>85.00000</td>\n",
       "    </tr>\n",
       "    <tr>\n",
       "      <th>2</th>\n",
       "      <td>79.553889</td>\n",
       "      <td>110.00000</td>\n",
       "    </tr>\n",
       "    <tr>\n",
       "      <th>3</th>\n",
       "      <td>75.310556</td>\n",
       "      <td>110.00000</td>\n",
       "    </tr>\n",
       "    <tr>\n",
       "      <th>4</th>\n",
       "      <td>64.958611</td>\n",
       "      <td>110.00000</td>\n",
       "    </tr>\n",
       "    <tr>\n",
       "      <th>5</th>\n",
       "      <td>58.157778</td>\n",
       "      <td>110.00000</td>\n",
       "    </tr>\n",
       "    <tr>\n",
       "      <th>6</th>\n",
       "      <td>56.238611</td>\n",
       "      <td>110.00000</td>\n",
       "    </tr>\n",
       "    <tr>\n",
       "      <th>7</th>\n",
       "      <td>55.903056</td>\n",
       "      <td>110.00000</td>\n",
       "    </tr>\n",
       "    <tr>\n",
       "      <th>8</th>\n",
       "      <td>52.465556</td>\n",
       "      <td>103.00000</td>\n",
       "    </tr>\n",
       "    <tr>\n",
       "      <th>9</th>\n",
       "      <td>51.998333</td>\n",
       "      <td>96.00000</td>\n",
       "    </tr>\n",
       "    <tr>\n",
       "      <th>27</th>\n",
       "      <td>76.101944</td>\n",
       "      <td>110.00000</td>\n",
       "    </tr>\n",
       "    <tr>\n",
       "      <th>28</th>\n",
       "      <td>65.141667</td>\n",
       "      <td>110.00000</td>\n",
       "    </tr>\n",
       "    <tr>\n",
       "      <th>29</th>\n",
       "      <td>4960.167000</td>\n",
       "      <td>110.00000</td>\n",
       "    </tr>\n",
       "    <tr>\n",
       "      <th>54</th>\n",
       "      <td>124.434722</td>\n",
       "      <td>110.00000</td>\n",
       "    </tr>\n",
       "    <tr>\n",
       "      <th>55</th>\n",
       "      <td>82.725278</td>\n",
       "      <td>110.00000</td>\n",
       "    </tr>\n",
       "    <tr>\n",
       "      <th>56</th>\n",
       "      <td>79.490278</td>\n",
       "      <td>110.00000</td>\n",
       "    </tr>\n",
       "    <tr>\n",
       "      <th>57</th>\n",
       "      <td>77.231111</td>\n",
       "      <td>110.00000</td>\n",
       "    </tr>\n",
       "    <tr>\n",
       "      <th>58</th>\n",
       "      <td>57.590556</td>\n",
       "      <td>110.00000</td>\n",
       "    </tr>\n",
       "    <tr>\n",
       "      <th>59</th>\n",
       "      <td>54.765833</td>\n",
       "      <td>110.00000</td>\n",
       "    </tr>\n",
       "    <tr>\n",
       "      <th>81</th>\n",
       "      <td>132.637500</td>\n",
       "      <td>110.00000</td>\n",
       "    </tr>\n",
       "    <tr>\n",
       "      <th>82</th>\n",
       "      <td>54.129444</td>\n",
       "      <td>80.00000</td>\n",
       "    </tr>\n",
       "    <tr>\n",
       "      <th>83</th>\n",
       "      <td>52.095833</td>\n",
       "      <td>70.00000</td>\n",
       "    </tr>\n",
       "    <tr>\n",
       "      <th>84</th>\n",
       "      <td>50.952500</td>\n",
       "      <td>110.00000</td>\n",
       "    </tr>\n",
       "    <tr>\n",
       "      <th>107</th>\n",
       "      <td>-100.000000</td>\n",
       "      <td>0.00000</td>\n",
       "    </tr>\n",
       "    <tr>\n",
       "      <th>108</th>\n",
       "      <td>177.090000</td>\n",
       "      <td>110.00000</td>\n",
       "    </tr>\n",
       "    <tr>\n",
       "      <th>109</th>\n",
       "      <td>79.073889</td>\n",
       "      <td>110.00000</td>\n",
       "    </tr>\n",
       "    <tr>\n",
       "      <th>110</th>\n",
       "      <td>61.739722</td>\n",
       "      <td>110.00000</td>\n",
       "    </tr>\n",
       "    <tr>\n",
       "      <th>111</th>\n",
       "      <td>52.792222</td>\n",
       "      <td>55.00000</td>\n",
       "    </tr>\n",
       "    <tr>\n",
       "      <th>135</th>\n",
       "      <td>299.986667</td>\n",
       "      <td>110.00000</td>\n",
       "    </tr>\n",
       "    <tr>\n",
       "      <th>136</th>\n",
       "      <td>220.310833</td>\n",
       "      <td>110.00000</td>\n",
       "    </tr>\n",
       "    <tr>\n",
       "      <th>137</th>\n",
       "      <td>202.196111</td>\n",
       "      <td>91.66666</td>\n",
       "    </tr>\n",
       "    <tr>\n",
       "      <th>138</th>\n",
       "      <td>199.105833</td>\n",
       "      <td>110.00000</td>\n",
       "    </tr>\n",
       "    <tr>\n",
       "      <th>139</th>\n",
       "      <td>78.876944</td>\n",
       "      <td>110.00000</td>\n",
       "    </tr>\n",
       "    <tr>\n",
       "      <th>162</th>\n",
       "      <td>79.490000</td>\n",
       "      <td>110.00000</td>\n",
       "    </tr>\n",
       "    <tr>\n",
       "      <th>163</th>\n",
       "      <td>52.315278</td>\n",
       "      <td>110.00000</td>\n",
       "    </tr>\n",
       "    <tr>\n",
       "      <th>164</th>\n",
       "      <td>49.581667</td>\n",
       "      <td>110.00000</td>\n",
       "    </tr>\n",
       "    <tr>\n",
       "      <th>189</th>\n",
       "      <td>80.220833</td>\n",
       "      <td>105.41500</td>\n",
       "    </tr>\n",
       "    <tr>\n",
       "      <th>190</th>\n",
       "      <td>53.360000</td>\n",
       "      <td>110.00000</td>\n",
       "    </tr>\n",
       "    <tr>\n",
       "      <th>216</th>\n",
       "      <td>80.030278</td>\n",
       "      <td>110.00000</td>\n",
       "    </tr>\n",
       "    <tr>\n",
       "      <th>217</th>\n",
       "      <td>79.009167</td>\n",
       "      <td>82.50000</td>\n",
       "    </tr>\n",
       "    <tr>\n",
       "      <th>218</th>\n",
       "      <td>73.603611</td>\n",
       "      <td>110.00000</td>\n",
       "    </tr>\n",
       "    <tr>\n",
       "      <th>219</th>\n",
       "      <td>58.634444</td>\n",
       "      <td>110.00000</td>\n",
       "    </tr>\n",
       "    <tr>\n",
       "      <th>220</th>\n",
       "      <td>54.006667</td>\n",
       "      <td>110.00000</td>\n",
       "    </tr>\n",
       "    <tr>\n",
       "      <th>221</th>\n",
       "      <td>52.070278</td>\n",
       "      <td>110.00000</td>\n",
       "    </tr>\n",
       "    <tr>\n",
       "      <th>243</th>\n",
       "      <td>96.319167</td>\n",
       "      <td>110.00000</td>\n",
       "    </tr>\n",
       "    <tr>\n",
       "      <th>244</th>\n",
       "      <td>52.374167</td>\n",
       "      <td>110.00000</td>\n",
       "    </tr>\n",
       "    <tr>\n",
       "      <th>270</th>\n",
       "      <td>102.745278</td>\n",
       "      <td>110.00000</td>\n",
       "    </tr>\n",
       "    <tr>\n",
       "      <th>271</th>\n",
       "      <td>74.967500</td>\n",
       "      <td>110.00000</td>\n",
       "    </tr>\n",
       "    <tr>\n",
       "      <th>272</th>\n",
       "      <td>73.911389</td>\n",
       "      <td>110.00000</td>\n",
       "    </tr>\n",
       "    <tr>\n",
       "      <th>273</th>\n",
       "      <td>57.248333</td>\n",
       "      <td>88.00000</td>\n",
       "    </tr>\n",
       "    <tr>\n",
       "      <th>274</th>\n",
       "      <td>55.072222</td>\n",
       "      <td>110.00000</td>\n",
       "    </tr>\n",
       "    <tr>\n",
       "      <th>275</th>\n",
       "      <td>49.632500</td>\n",
       "      <td>110.00000</td>\n",
       "    </tr>\n",
       "    <tr>\n",
       "      <th>297</th>\n",
       "      <td>55.669444</td>\n",
       "      <td>110.00000</td>\n",
       "    </tr>\n",
       "    <tr>\n",
       "      <th>324</th>\n",
       "      <td>269.995278</td>\n",
       "      <td>110.00000</td>\n",
       "    </tr>\n",
       "    <tr>\n",
       "      <th>378</th>\n",
       "      <td>135.675833</td>\n",
       "      <td>82.50000</td>\n",
       "    </tr>\n",
       "  </tbody>\n",
       "</table>\n",
       "</div>"
      ],
      "text/plain": [
       "          Tiempo  Calificacion\n",
       "0      85.076389      85.00000\n",
       "1      84.675556      85.00000\n",
       "2      79.553889     110.00000\n",
       "3      75.310556     110.00000\n",
       "4      64.958611     110.00000\n",
       "5      58.157778     110.00000\n",
       "6      56.238611     110.00000\n",
       "7      55.903056     110.00000\n",
       "8      52.465556     103.00000\n",
       "9      51.998333      96.00000\n",
       "27     76.101944     110.00000\n",
       "28     65.141667     110.00000\n",
       "29   4960.167000     110.00000\n",
       "54    124.434722     110.00000\n",
       "55     82.725278     110.00000\n",
       "56     79.490278     110.00000\n",
       "57     77.231111     110.00000\n",
       "58     57.590556     110.00000\n",
       "59     54.765833     110.00000\n",
       "81    132.637500     110.00000\n",
       "82     54.129444      80.00000\n",
       "83     52.095833      70.00000\n",
       "84     50.952500     110.00000\n",
       "107  -100.000000       0.00000\n",
       "108   177.090000     110.00000\n",
       "109    79.073889     110.00000\n",
       "110    61.739722     110.00000\n",
       "111    52.792222      55.00000\n",
       "135   299.986667     110.00000\n",
       "136   220.310833     110.00000\n",
       "137   202.196111      91.66666\n",
       "138   199.105833     110.00000\n",
       "139    78.876944     110.00000\n",
       "162    79.490000     110.00000\n",
       "163    52.315278     110.00000\n",
       "164    49.581667     110.00000\n",
       "189    80.220833     105.41500\n",
       "190    53.360000     110.00000\n",
       "216    80.030278     110.00000\n",
       "217    79.009167      82.50000\n",
       "218    73.603611     110.00000\n",
       "219    58.634444     110.00000\n",
       "220    54.006667     110.00000\n",
       "221    52.070278     110.00000\n",
       "243    96.319167     110.00000\n",
       "244    52.374167     110.00000\n",
       "270   102.745278     110.00000\n",
       "271    74.967500     110.00000\n",
       "272    73.911389     110.00000\n",
       "273    57.248333      88.00000\n",
       "274    55.072222     110.00000\n",
       "275    49.632500     110.00000\n",
       "297    55.669444     110.00000\n",
       "324   269.995278     110.00000\n",
       "378   135.675833      82.50000"
      ]
     },
     "metadata": {},
     "output_type": "display_data"
    },
    {
     "name": "stdout",
     "output_type": "stream",
     "text": [
      "(55,)\n"
     ]
    }
   ],
   "source": [
    "import numpy as np\n",
    "# Cuartil uno\n",
    "q1=df.Calificacion.quantile(0.25)\n",
    "# Cuartil tres\n",
    "q3=df.Calificacion.quantile(0.75)\n",
    "# Rango intercuartil\n",
    "iqr=q3-q1\n",
    "# Límite inferior\n",
    "li=q1-(3*iqr)\n",
    "# Límite superior\n",
    "ls=q3+(3*iqr)\n",
    "# Observaciones fuera de cualquiera de los dos límites\n",
    "out=np.where((df.Calificacion<li)|(df.Calificacion>=ls))[0]\n",
    "# Imprimir información de outliers\n",
    "print(\"Datos de los outliers\")\n",
    "display(df.iloc[out,:])\n",
    "\n",
    "# Cuartil uno\n",
    "q1=df.Tiempo.quantile(0.25)\n",
    "# Cuartil tres\n",
    "q3=df.Tiempo.quantile(0.75)\n",
    "# Rango intercuartil\n",
    "iqr=q3-q1\n",
    "# Límite inferior\n",
    "li=q1-(3*iqr)\n",
    "# Límite superior\n",
    "ls=q3+(3*iqr)\n",
    "# Observaciones fuera de cualquiera de los dos límites\n",
    "out=np.where((df.Tiempo<li)|(df.Tiempo>=ls))[0]\n",
    "# Imprimir información de outliers\n",
    "print(\"Datos de los outliers\")\n",
    "display(df.iloc[out,:])\n",
    "\n",
    "print(out.shape)\n",
    "\n"
   ]
  },
  {
   "cell_type": "code",
   "execution_count": 74,
   "metadata": {},
   "outputs": [
    {
     "name": "stdout",
     "output_type": "stream",
     "text": [
      "Datos con Tiempo menor a 1 (entregas cercanas al cierre):\n"
     ]
    },
    {
     "data": {
      "text/html": [
       "<div>\n",
       "<style scoped>\n",
       "    .dataframe tbody tr th:only-of-type {\n",
       "        vertical-align: middle;\n",
       "    }\n",
       "\n",
       "    .dataframe tbody tr th {\n",
       "        vertical-align: top;\n",
       "    }\n",
       "\n",
       "    .dataframe thead th {\n",
       "        text-align: right;\n",
       "    }\n",
       "</style>\n",
       "<table border=\"1\" class=\"dataframe\">\n",
       "  <thead>\n",
       "    <tr style=\"text-align: right;\">\n",
       "      <th></th>\n",
       "      <th>Tiempo</th>\n",
       "      <th>Calificacion</th>\n",
       "    </tr>\n",
       "  </thead>\n",
       "  <tbody>\n",
       "    <tr>\n",
       "      <th>107</th>\n",
       "      <td>-100.0</td>\n",
       "      <td>0.0</td>\n",
       "    </tr>\n",
       "  </tbody>\n",
       "</table>\n",
       "</div>"
      ],
      "text/plain": [
       "     Tiempo  Calificacion\n",
       "107  -100.0           0.0"
      ]
     },
     "metadata": {},
     "output_type": "display_data"
    },
    {
     "name": "stdout",
     "output_type": "stream",
     "text": [
      "      Tiempo  Calificacion\n",
      "29  4960.167         110.0\n"
     ]
    }
   ],
   "source": [
    "# Filtrar los datos donde el Tiempo es menor a 1\n",
    "outliers_cerca_cierre = df[df.Tiempo < 0]\n",
    "outlier_lejo=df[df.Tiempo >300]\n",
    "# Mostrar los datos filtrados\n",
    "print(\"Datos con Tiempo menor a 1 (entregas cercanas al cierre):\")\n",
    "display(outliers_cerca_cierre)\n",
    "print(outlier_lejo)"
   ]
  },
  {
   "cell_type": "markdown",
   "metadata": {},
   "source": [
    "### Justificación para eliminar los outliers\n",
    "\n",
    "En este análisis, hemos identificado y decidido eliminar dos tipos de outliers en la columna **\"Tiempo\"** debido a su naturaleza anómala. Estos outliers representan casos que no son relevantes para el análisis, ya que distorsionan los resultados y afectan la precisión del modelo. A continuación, se explica la razón de la eliminación de cada uno:\n",
    "\n",
    "1. **Tiempo negativo (< 0 horas)**:\n",
    "   - Un valor negativo en **\"Tiempo\"** indica que la entrega de la tarea fue registrada después del cierre de la bandeja, lo cual es un error, al menos que tuvieramos más información sobre si hay tiempo extra después del cierre. Este valor no tiene sentido y debe ser eliminado del conjunto de datos.\n",
    "\n",
    "2. **Tiempo mayor a 300 horas (> 300 horas)**:\n",
    "   - Un valor mayor a **300 horas** indica que la tarea fue entregada con una antelación **excesiva**, específicamente con **más de 12 días** antes de la fecha de cierre. Este tipo de entrega es inusual y podría ser el resultado de un error en la recolección de datos. El valor excede el rango razonable de entrega y debe eliminarse para evitar que distorsione el análisis.\n",
    "\n",
    "\n"
   ]
  },
  {
   "cell_type": "code",
   "execution_count": 75,
   "metadata": {},
   "outputs": [
    {
     "name": "stdout",
     "output_type": "stream",
     "text": [
      "Datos con Tiempo menor a 0 o mayor a 300 (debería estar vacío):\n"
     ]
    },
    {
     "data": {
      "text/html": [
       "<div>\n",
       "<style scoped>\n",
       "    .dataframe tbody tr th:only-of-type {\n",
       "        vertical-align: middle;\n",
       "    }\n",
       "\n",
       "    .dataframe tbody tr th {\n",
       "        vertical-align: top;\n",
       "    }\n",
       "\n",
       "    .dataframe thead th {\n",
       "        text-align: right;\n",
       "    }\n",
       "</style>\n",
       "<table border=\"1\" class=\"dataframe\">\n",
       "  <thead>\n",
       "    <tr style=\"text-align: right;\">\n",
       "      <th></th>\n",
       "      <th>Tiempo</th>\n",
       "      <th>Calificacion</th>\n",
       "    </tr>\n",
       "  </thead>\n",
       "  <tbody>\n",
       "  </tbody>\n",
       "</table>\n",
       "</div>"
      ],
      "text/plain": [
       "Empty DataFrame\n",
       "Columns: [Tiempo, Calificacion]\n",
       "Index: []"
      ]
     },
     "metadata": {},
     "output_type": "display_data"
    },
    {
     "name": "stdout",
     "output_type": "stream",
     "text": [
      "Los outliers han sido eliminados correctamente.\n"
     ]
    }
   ],
   "source": [
    "\n",
    "# Filtrar los datos donde el Tiempo es menor a 0 o mayor a 300\n",
    "df.drop(df[(df.Tiempo < 0) | (df.Tiempo > 300)].index, inplace=True)\n",
    "\n",
    "# Verificar que los datos han sido eliminados correctamente\n",
    "outliers_filtrados = df[(df.Tiempo < 0) | (df.Tiempo > 300)]\n",
    "\n",
    "# Mostrar los resultados después de la eliminación\n",
    "print(\"Datos con Tiempo menor a 0 o mayor a 300 (debería estar vacío):\")\n",
    "display(outliers_filtrados)\n",
    "\n",
    "# Confirmar eliminación\n",
    "if outliers_filtrados.empty:\n",
    "    print(\"Los outliers han sido eliminados correctamente.\")\n",
    "else:\n",
    "    print(\"Aún existen registros con Tiempo fuera del rango esperado.\")\n"
   ]
  },
  {
   "cell_type": "markdown",
   "metadata": {},
   "source": [
    "#### Gráfica intento2\n",
    "Ahora que se quitaron los outlier gráficaremos de nuevo"
   ]
  },
  {
   "cell_type": "code",
   "execution_count": 76,
   "metadata": {},
   "outputs": [
    {
     "data": {
      "image/png": "[encoded data removed]",
      "text/plain": [
       "<Figure size 640x480 with 1 Axes>"
      ]
     },
     "metadata": {},
     "output_type": "display_data"
    }
   ],
   "source": [
    "# Gráfica de dispersión\n",
    "plt.scatter(df.Tiempo, df.Calificacion)\n",
    "\n",
    "# Etiquetas y título\n",
    "plt.xlabel('Tiempo')\n",
    "plt.ylabel('Calificación')\n",
    "plt.title('Gráfica de Dispersión: Tiempo vs Calificación')\n",
    "\n",
    "# Mostrar la gráfica\n",
    "plt.show()"
   ]
  },
  {
   "cell_type": "markdown",
   "metadata": {},
   "source": [
    "#### Separación de Datos en Entrenamiento y Prueba\n",
    "\n",
    "2. Ahora separamos los datos en dos conjuntos: uno de entrenamiento y uno de prueba, con una relación de 70% para entrenamiento y 30% para prueba. Utilizando esta separación para poder entrenar y evaluar el modelo de forma efectiva.\n",
    "\n",
    "- Una vez separados los datos, calcularé el promedio de los tiempos y calificaciones tanto en el conjunto de entrenamiento como en el conjunto de prueba. Esto me permitirá comparar cómo se distribuyen estos valores en ambos conjuntos.\n",
    "\n",
    "- Después de obtener los promedios, imprimiré los resultados en consola y realizaré un análisis sobre la similitud o diferencia entre los promedios de los conjuntos de entrenamiento y prueba. Si los promedios son similares, esto indicará que la distribución de los datos es equilibrada, lo que facilitará un buen desempeño del modelo. Sin embargo, si hay una diferencia significativa, podría haber un sesgo en los datos, lo cual podría afectar el análisis y la capacidad de generalización del modelo.\n"
   ]
  },
  {
   "cell_type": "code",
   "execution_count": 77,
   "metadata": {},
   "outputs": [],
   "source": [
    "# Importar función\n",
    "from sklearn.model_selection import train_test_split\n",
    "# Generar subconjuntos de prueba y entrenamiento para X e Y\n",
    "X_train, X_test, Y_train, Y_test = train_test_split(df.drop(\"Calificacion\",axis=1),df.Calificacion,train_size = 0.7, random_state=30)"
   ]
  },
  {
   "cell_type": "code",
   "execution_count": 78,
   "metadata": {},
   "outputs": [
    {
     "name": "stdout",
     "output_type": "stream",
     "text": [
      "Promedio de Tiempo en el conjunto de entrenamiento: 17.94 horas\n",
      "Promedio de Calificación en el conjunto de entrenamiento: 93.62\n",
      "Promedio de Tiempo en el conjunto de prueba: 17.66 horas\n",
      "Promedio de Calificación en el conjunto de prueba: 98.11\n"
     ]
    }
   ],
   "source": [
    "# Calcular el promedio de Tiempo y Calificación en el conjunto de entrenamiento\n",
    "promedio_tiempo_train = X_train['Tiempo'].mean()\n",
    "promedio_calificacion_train = Y_train.mean()\n",
    "\n",
    "# Calcular el promedio de Tiempo y Calificación en el conjunto de prueba\n",
    "promedio_tiempo_test = X_test['Tiempo'].mean()\n",
    "promedio_calificacion_test = Y_test.mean()\n",
    "\n",
    "# Imprimir los resultados\n",
    "print(f\"Promedio de Tiempo en el conjunto de entrenamiento: {promedio_tiempo_train:.2f} horas\")\n",
    "print(f\"Promedio de Calificación en el conjunto de entrenamiento: {promedio_calificacion_train:.2f}\")\n",
    "\n",
    "print(f\"Promedio de Tiempo en el conjunto de prueba: {promedio_tiempo_test:.2f} horas\")\n",
    "print(f\"Promedio de Calificación en el conjunto de prueba: {promedio_calificacion_test:.2f}\")"
   ]
  },
  {
   "cell_type": "markdown",
   "metadata": {},
   "source": [
    "Las diferencias entre los tiempos fue de 4.26 mientras que en calificación fueron de 4.4. \n",
    "\n",
    "Lo cual muestra que no son diferencias tan significativas pero podría haber cambios en el valor de RSE medido en datos de entrenamiento y en datos de prueba, debido a esta diferencia además de tomar en cuenta que puede haber un sesgo porque los datos de prueba tienen mayor rango de valores que en los de entrenamiento por lo cual el modelo puede tener problemas por su entrenamiento con un rango más concentrado de datos.           "
   ]
  },
  {
   "cell_type": "markdown",
   "metadata": {},
   "source": [
    "### Entrenamiento Modelo polinomial\n",
    "3. Ahora entrenamos un modelo de regresión polinomial usando los datos de entrenamiento; usando \n",
    "usar el orden de polinomial que considere más adecuado. Imprimos un resumen de los \n",
    "resultados obtenidos y agregamos una línea de texto en la que comento sobre el tipo de \n",
    "relación (positiva o negativa; ¿a menor tiempo menor calificación?) entre el término lineal \n",
    "y la respuesta, lo que esto significa y si dicha variable está significativamente asociada \n",
    "con las calificaciones. \n",
    "\n",
    "\n",
    "Usaremos la función `PolynomialFeatures` de la librería sklearn.preprocessing; en esta ocasión, solo necesitaremos definir como parámetro `degree=2`. En la misma línea de código realizaremos el ajuste de datos, para los datos de entrenamiento, con la función `fit`.\n",
    "\n",
    "\n"
   ]
  },
  {
   "cell_type": "code",
   "execution_count": 79,
   "metadata": {},
   "outputs": [
    {
     "name": "stdout",
     "output_type": "stream",
     "text": [
      "                            OLS Regression Results                            \n",
      "==============================================================================\n",
      "Dep. Variable:                      y   R-squared:                       0.064\n",
      "Model:                            OLS   Adj. R-squared:                  0.057\n",
      "Method:                 Least Squares   F-statistic:                     10.06\n",
      "Date:                Wed, 12 Feb 2025   Prob (F-statistic):           5.96e-05\n",
      "Time:                        23:09:19   Log-Likelihood:                -1377.1\n",
      "No. Observations:                 298   AIC:                             2760.\n",
      "Df Residuals:                     295   BIC:                             2771.\n",
      "Df Model:                           2                                         \n",
      "Covariance Type:            nonrobust                                         \n",
      "==============================================================================\n",
      "                 coef    std err          t      P>|t|      [0.025      0.975]\n",
      "------------------------------------------------------------------------------\n",
      "0             88.9685      1.771     50.245      0.000      85.484      92.453\n",
      "1              0.3661      0.089      4.123      0.000       0.191       0.541\n",
      "2             -0.0012      0.000     -2.850      0.005      -0.002      -0.000\n",
      "==============================================================================\n",
      "Omnibus:                       96.786   Durbin-Watson:                   2.125\n",
      "Prob(Omnibus):                  0.000   Jarque-Bera (JB):              212.773\n",
      "Skew:                          -1.639   Prob(JB):                     6.26e-47\n",
      "Kurtosis:                       5.529   Cond. No.                     9.08e+03\n",
      "==============================================================================\n",
      "\n",
      "Notes:\n",
      "[1] Standard Errors assume that the covariance matrix of the errors is correctly specified.\n",
      "[2] The condition number is large, 9.08e+03. This might indicate that there are\n",
      "strong multicollinearity or other numerical problems.\n"
     ]
    }
   ],
   "source": [
    "import statsmodels.api as sm\n",
    "# Cambiar la forma de los datos\n",
    "Xtemp_train = X_train.to_numpy().reshape(-1,1)\n",
    "Xtemp_test = X_test.to_numpy().reshape(-1,1)\n",
    "# Importar la librería\n",
    "from sklearn.preprocessing import PolynomialFeatures\n",
    "# Generar polinomiales de grado 2 y ajustar los datos respecto a las variables mas falta agregarlos a dichas variables\n",
    "polyq_train = PolynomialFeatures(degree=2).fit(Xtemp_train)\n",
    "polyq_test = PolynomialFeatures(degree=2).fit(Xtemp_test)\n",
    "# Transformar los datos para que incluyan el polinomial de segundo orden\n",
    "Xq_train = pd.DataFrame(polyq_train.transform(Xtemp_train))\n",
    "Xq_test = pd.DataFrame(polyq_test.transform(Xtemp_test))\n",
    "# Generar y entrenar modelo\n",
    "mq = sm.OLS(list(Y_train),Xq_train).fit()   #modelo no lineal, polinomio de 2 grado\n",
    "# Imprimir resultados\n",
    "print(mq.summary())\n"
   ]
  },
  {
   "cell_type": "markdown",
   "metadata": {},
   "source": [
    "Es positivo e indica que la calificación incrementa en 0.2907 puntos por cada hora de anterioridad a la hora de cierre. Su p-valor menor a 0.001 confirma que está significativamente asociado con la calificación. Por otro lado, el término cuadrático de -0.0009 es negativo, lo que sugiere que hay un punto en el que la calificación comienza a disminuir por cada hora adicional de anterioridad.\n",
    "\n"
   ]
  },
  {
   "cell_type": "markdown",
   "metadata": {},
   "source": [
    "### Entrenamiento modelo segmentado\n",
    "4. Ahora entrenaremos un modelo de regresión segmentada, utilizando regresiones cuadráticas para cada segmento. Y generamos estimaciones(predicciones) en los datos de validación.Hay múltiples formas de llevar a cabo este proceso, pero yo recomiendo usar la función `PiecewiseRegressor` de la librería mlinsights.mlmodel."
   ]
  },
  {
   "cell_type": "code",
   "execution_count": 80,
   "metadata": {},
   "outputs": [],
   "source": [
    "# Importar función\n",
    "from mlinsights.mlmodel import PiecewiseRegressor\n",
    "# Generar y entrenar modelo usando el término lineal y el cuadrático\n",
    "ms = PiecewiseRegressor('bins').fit(Xq_train.iloc[:,1:],Y_train)"
   ]
  },
  {
   "cell_type": "markdown",
   "metadata": {},
   "source": [
    "### Entrenamiento modelo no parámetrico (KNN)\n",
    "Dicho modelo no asume ningún tipo de relación entre la variable de entrada y la de salida. Usaremos la función `KNeighbotsRegressor` de sklearn.neighbors para generar el modelo, y la función `fit` para entrenarlo. Probaremos en este caso con 15 vecinos."
   ]
  },
  {
   "cell_type": "code",
   "execution_count": 81,
   "metadata": {},
   "outputs": [
    {
     "name": "stdout",
     "output_type": "stream",
     "text": [
      "RSE para k=1: 24.336938373138757\n",
      "RSE para k=5: 20.075513758592294\n",
      "RSE para k=10: 18.816926813577176\n",
      "RSE para k=15: 18.78105375278339\n",
      "RSE para k=20: 19.022347225464287\n"
     ]
    }
   ],
   "source": [
    "# Importar librerías\n",
    "from sklearn.neighbors import KNeighborsRegressor as KNN\n",
    "\n",
    "\n",
    "# Definir los valores de k a probar\n",
    "k_values = [1, 5, 10, 15, 20]\n",
    "models = {}\n",
    "\n",
    "# Entrenar modelos con diferentes valores de k\n",
    "for k in k_values:\n",
    "    # Entrenar el modelo KNN con el valor de k\n",
    "    models[k] = KNN(n_neighbors=k).fit(Xtemp_train, Y_train)\n",
    "    \n",
    "    # Estimar el valor de Y en los datos de prueba\n",
    "    yHat_mk = models[k].predict(Xtemp_test)\n",
    "    \n",
    "    # Calcular RSS (Residual Sum of Squares)\n",
    "    RSS_mk = sum((list(Y_test) - yHat_mk)**2)\n",
    "    \n",
    "    # Calcular RSE (Raíz del Error Cuadrático Medio)\n",
    "    RSE_mk = np.sqrt(RSS_mk / (len(Y_test)-1))  # Manteniendo el cálculo como lo proporcionaste\n",
    "    \n",
    "    # Imprimir el valor de RSE para la iteración actual\n",
    "    print(f\"RSE para k={k}: {RSE_mk}\")\n",
    "\n"
   ]
  },
  {
   "cell_type": "markdown",
   "metadata": {},
   "source": [
    "Nos quedaremos con k=15 por su RSE menor"
   ]
  },
  {
   "cell_type": "code",
   "execution_count": 85,
   "metadata": {},
   "outputs": [],
   "source": [
    "\n",
    "mk = KNN(n_neighbors=15).fit(Xtemp_train,Y_train)"
   ]
  },
  {
   "cell_type": "markdown",
   "metadata": {},
   "source": [
    "#### RSE Polinomial , Segmentado , no párametrico\n",
    "6. Calculamos el RSE en los datos de prueba para los 3 modelos y agregamos una línea de texto donde comento sobre sus diferencias y si hay un claro “ganador”. No te bases \n",
    "exclusivamente en el error, puedes considerar también aspectos como la interpretabilidad \n",
    "del modelo. "
   ]
  },
  {
   "cell_type": "code",
   "execution_count": 86,
   "metadata": {},
   "outputs": [
    {
     "data": {
      "text/html": [
       "<div>\n",
       "<style scoped>\n",
       "    .dataframe tbody tr th:only-of-type {\n",
       "        vertical-align: middle;\n",
       "    }\n",
       "\n",
       "    .dataframe tbody tr th {\n",
       "        vertical-align: top;\n",
       "    }\n",
       "\n",
       "    .dataframe thead th {\n",
       "        text-align: right;\n",
       "    }\n",
       "</style>\n",
       "<table border=\"1\" class=\"dataframe\">\n",
       "  <thead>\n",
       "    <tr style=\"text-align: right;\">\n",
       "      <th></th>\n",
       "      <th>Modelo</th>\n",
       "      <th>RSE</th>\n",
       "    </tr>\n",
       "  </thead>\n",
       "  <tbody>\n",
       "    <tr>\n",
       "      <th>0</th>\n",
       "      <td>Polinomial</td>\n",
       "      <td>19.565400</td>\n",
       "    </tr>\n",
       "    <tr>\n",
       "      <th>1</th>\n",
       "      <td>Segmentado</td>\n",
       "      <td>18.586632</td>\n",
       "    </tr>\n",
       "    <tr>\n",
       "      <th>2</th>\n",
       "      <td>No Paramétrico</td>\n",
       "      <td>18.781054</td>\n",
       "    </tr>\n",
       "  </tbody>\n",
       "</table>\n",
       "</div>"
      ],
      "text/plain": [
       "           Modelo        RSE\n",
       "0      Polinomial  19.565400\n",
       "1      Segmentado  18.586632\n",
       "2  No Paramétrico  18.781054"
      ]
     },
     "metadata": {},
     "output_type": "display_data"
    }
   ],
   "source": [
    "# Estimar el valor de Y en los datos de prueba\n",
    "yHat_mq = mq.predict(Xq_test)\n",
    "# Calcular RSS\n",
    "RSS_mq = sum((list(Y_test)-yHat_mq)**2)\n",
    "# Calcular RSE\n",
    "RSE_MODELOPOLI = np.sqrt(RSS_mq/len(Y_test)-1)\n",
    "\n",
    "\n",
    "\n",
    "# Estimar el valor de Y en los datos de prueba\n",
    "yHat_ms = ms.predict(Xq_test.iloc[:,1:])\n",
    "# Calcular RSS\n",
    "RSS_ms = sum((list(Y_test)-yHat_ms)**2)\n",
    "# Calcular RSE\n",
    "RSE_SEG = np.sqrt(RSS_ms/(len(Y_test)-1))\n",
    "\n",
    "\n",
    "yHat_mk = mk.predict(Xtemp_test)\n",
    "RSS_mk = sum((list(Y_test)-yHat_mk)**2)\n",
    "RSE_mk = np.sqrt(RSS_mk/(len(Y_test)-1))\n",
    "\n",
    "\n",
    "rse_results = pd.DataFrame({\n",
    "    'Modelo': ['Polinomial', 'Segmentado', 'No Paramétrico'],\n",
    "    'RSE': [RSE_MODELOPOLI, RSE_SEG, RSE_mk]\n",
    "})\n",
    "\n",
    "# Imprimir la tabla\n",
    "display(rse_results)"
   ]
  },
  {
   "cell_type": "markdown",
   "metadata": {},
   "source": [
    "El modelo segmentado se destaca por tener una menor tasa de error cuadrático medio (RSE), lo que lo hace más preciso en términos de predicción. Esto lo convierte en la opción preferida cuando se busca una mayor exactitud en los resultados, especialmente en datos complejos o con relaciones no lineales.\n",
    "\n",
    "En cuanto a la interpretabilidad, esta depende del contexto, el problema y las variables involucradas. Además, la complejidad del problema juega un papel crucial, ya que un modelo puede ser más interpretable en problemas más simples, pero a medida que el problema crece y abarca más variables, tanto los modelos segmentados , no paramétricos y los polinomiales pueden volverse más difíciles de explicar debido a las interacciones y relaciones más complejas."
   ]
  },
  {
   "cell_type": "markdown",
   "metadata": {},
   "source": [
    "## Gráficas\n",
    "7. Ahora gráficaremos los 3 modelos en un mismo plot.\n"
   ]
  },
  {
   "cell_type": "code",
   "execution_count": 87,
   "metadata": {},
   "outputs": [
    {
     "data": {
      "image/png": "[encoded data removed]",
      "text/plain": [
       "<Figure size 2000x1000 with 1 Axes>"
      ]
     },
     "metadata": {},
     "output_type": "display_data"
    }
   ],
   "source": [
    "# Crear el gráfico\n",
    "plt.figure(figsize=(20, 10))\n",
    "\n",
    "# Graficar los valores reales\n",
    "plt.scatter(X_test, Y_test, color='black', alpha=0.6, label='Datos Reales (Y_test)')\n",
    "\n",
    "# Graficar los valores estimados de cada modelo\n",
    "plt.plot(X_test, yHat_mq, \"b.\", label=\"Modelo Polinomial (yHat_mq)\")\n",
    "plt.plot(X_test, yHat_ms, \"r.\", label=\"Modelo Segmentado (yHat_ms)\")\n",
    "plt.plot(X_test, yHat_mk, \"g.\", label=\"Modelo No Paramétrico (yHat_mk)\")\n",
    "\n",
    "# Etiquetas y título\n",
    "plt.xlabel('X_test')\n",
    "plt.ylabel('Valores Reales y Estimados de Y')\n",
    "plt.title('Comparación de Modelos: Datos Reales vs Estimados')\n",
    "plt.legend()  # Mostrar leyenda\n",
    "\n",
    "# Mostrar el gráfico\n",
    "plt.show()"
   ]
  },
  {
   "cell_type": "markdown",
   "metadata": {},
   "source": [
    "**Doy mi palabra que he realizado esta actividad con integridad académica**"
   ]
  }
 ],
 "metadata": {
  "kernelspec": {
   "display_name": "Python 3",
   "language": "python",
   "name": "python3"
  },
  "language_info": {
   "codemirror_mode": {
    "name": "ipython",
    "version": 3
   },
   "file_extension": ".py",
   "mimetype": "text/x-python",
   "name": "python",
   "nbconvert_exporter": "python",
   "pygments_lexer": "ipython3",
   "version": "3.11.9"
  }
 },
 "nbformat": 4,
 "nbformat_minor": 2
}
